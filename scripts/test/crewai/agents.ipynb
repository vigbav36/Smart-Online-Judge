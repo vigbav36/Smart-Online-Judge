{
 "cells": [
  {
   "cell_type": "code",
   "execution_count": 1,
   "metadata": {},
   "outputs": [
    {
     "name": "stdout",
     "output_type": "stream",
     "text": [
      "Collecting langgraph\n",
      "  Using cached langgraph-0.2.19-py3-none-any.whl.metadata (13 kB)\n",
      "Collecting langchain-core<0.4,>=0.2.38 (from langgraph)\n",
      "  Using cached langchain_core-0.2.38-py3-none-any.whl.metadata (6.2 kB)\n",
      "Collecting langgraph-checkpoint<2.0.0,>=1.0.2 (from langgraph)\n",
      "  Using cached langgraph_checkpoint-1.0.9-py3-none-any.whl.metadata (4.5 kB)\n",
      "Requirement already satisfied: PyYAML>=5.3 in c:\\users\\vigne\\onedrive\\desktop\\projects\\smart-judge\\scripts\\.venv\\lib\\site-packages (from langchain-core<0.4,>=0.2.38->langgraph) (6.0.2)\n",
      "Requirement already satisfied: jsonpatch<2.0,>=1.33 in c:\\users\\vigne\\onedrive\\desktop\\projects\\smart-judge\\scripts\\.venv\\lib\\site-packages (from langchain-core<0.4,>=0.2.38->langgraph) (1.33)\n",
      "Requirement already satisfied: langsmith<0.2.0,>=0.1.75 in c:\\users\\vigne\\onedrive\\desktop\\projects\\smart-judge\\scripts\\.venv\\lib\\site-packages (from langchain-core<0.4,>=0.2.38->langgraph) (0.1.104)\n",
      "Requirement already satisfied: packaging<25,>=23.2 in c:\\users\\vigne\\onedrive\\desktop\\projects\\smart-judge\\scripts\\.venv\\lib\\site-packages (from langchain-core<0.4,>=0.2.38->langgraph) (24.1)\n",
      "Requirement already satisfied: pydantic<3,>=1 in c:\\users\\vigne\\onedrive\\desktop\\projects\\smart-judge\\scripts\\.venv\\lib\\site-packages (from langchain-core<0.4,>=0.2.38->langgraph) (2.8.2)\n",
      "Requirement already satisfied: tenacity!=8.4.0,<9.0.0,>=8.1.0 in c:\\users\\vigne\\onedrive\\desktop\\projects\\smart-judge\\scripts\\.venv\\lib\\site-packages (from langchain-core<0.4,>=0.2.38->langgraph) (8.5.0)\n",
      "Requirement already satisfied: typing-extensions>=4.7 in c:\\users\\vigne\\onedrive\\desktop\\projects\\smart-judge\\scripts\\.venv\\lib\\site-packages (from langchain-core<0.4,>=0.2.38->langgraph) (4.12.2)\n",
      "Requirement already satisfied: jsonpointer>=1.9 in c:\\users\\vigne\\onedrive\\desktop\\projects\\smart-judge\\scripts\\.venv\\lib\\site-packages (from jsonpatch<2.0,>=1.33->langchain-core<0.4,>=0.2.38->langgraph) (3.0.0)\n",
      "Requirement already satisfied: httpx<1,>=0.23.0 in c:\\users\\vigne\\onedrive\\desktop\\projects\\smart-judge\\scripts\\.venv\\lib\\site-packages (from langsmith<0.2.0,>=0.1.75->langchain-core<0.4,>=0.2.38->langgraph) (0.27.0)\n",
      "Requirement already satisfied: orjson<4.0.0,>=3.9.14 in c:\\users\\vigne\\onedrive\\desktop\\projects\\smart-judge\\scripts\\.venv\\lib\\site-packages (from langsmith<0.2.0,>=0.1.75->langchain-core<0.4,>=0.2.38->langgraph) (3.10.7)\n",
      "Requirement already satisfied: requests<3,>=2 in c:\\users\\vigne\\onedrive\\desktop\\projects\\smart-judge\\scripts\\.venv\\lib\\site-packages (from langsmith<0.2.0,>=0.1.75->langchain-core<0.4,>=0.2.38->langgraph) (2.32.3)\n",
      "Requirement already satisfied: annotated-types>=0.4.0 in c:\\users\\vigne\\onedrive\\desktop\\projects\\smart-judge\\scripts\\.venv\\lib\\site-packages (from pydantic<3,>=1->langchain-core<0.4,>=0.2.38->langgraph) (0.7.0)\n",
      "Requirement already satisfied: pydantic-core==2.20.1 in c:\\users\\vigne\\onedrive\\desktop\\projects\\smart-judge\\scripts\\.venv\\lib\\site-packages (from pydantic<3,>=1->langchain-core<0.4,>=0.2.38->langgraph) (2.20.1)\n",
      "Requirement already satisfied: anyio in c:\\users\\vigne\\onedrive\\desktop\\projects\\smart-judge\\scripts\\.venv\\lib\\site-packages (from httpx<1,>=0.23.0->langsmith<0.2.0,>=0.1.75->langchain-core<0.4,>=0.2.38->langgraph) (4.4.0)\n",
      "Requirement already satisfied: certifi in c:\\users\\vigne\\onedrive\\desktop\\projects\\smart-judge\\scripts\\.venv\\lib\\site-packages (from httpx<1,>=0.23.0->langsmith<0.2.0,>=0.1.75->langchain-core<0.4,>=0.2.38->langgraph) (2024.7.4)\n",
      "Requirement already satisfied: httpcore==1.* in c:\\users\\vigne\\onedrive\\desktop\\projects\\smart-judge\\scripts\\.venv\\lib\\site-packages (from httpx<1,>=0.23.0->langsmith<0.2.0,>=0.1.75->langchain-core<0.4,>=0.2.38->langgraph) (1.0.5)\n",
      "Requirement already satisfied: idna in c:\\users\\vigne\\onedrive\\desktop\\projects\\smart-judge\\scripts\\.venv\\lib\\site-packages (from httpx<1,>=0.23.0->langsmith<0.2.0,>=0.1.75->langchain-core<0.4,>=0.2.38->langgraph) (3.7)\n",
      "Requirement already satisfied: sniffio in c:\\users\\vigne\\onedrive\\desktop\\projects\\smart-judge\\scripts\\.venv\\lib\\site-packages (from httpx<1,>=0.23.0->langsmith<0.2.0,>=0.1.75->langchain-core<0.4,>=0.2.38->langgraph) (1.3.1)\n",
      "Requirement already satisfied: h11<0.15,>=0.13 in c:\\users\\vigne\\onedrive\\desktop\\projects\\smart-judge\\scripts\\.venv\\lib\\site-packages (from httpcore==1.*->httpx<1,>=0.23.0->langsmith<0.2.0,>=0.1.75->langchain-core<0.4,>=0.2.38->langgraph) (0.14.0)\n",
      "Requirement already satisfied: charset-normalizer<4,>=2 in c:\\users\\vigne\\onedrive\\desktop\\projects\\smart-judge\\scripts\\.venv\\lib\\site-packages (from requests<3,>=2->langsmith<0.2.0,>=0.1.75->langchain-core<0.4,>=0.2.38->langgraph) (3.3.2)\n",
      "Requirement already satisfied: urllib3<3,>=1.21.1 in c:\\users\\vigne\\onedrive\\desktop\\projects\\smart-judge\\scripts\\.venv\\lib\\site-packages (from requests<3,>=2->langsmith<0.2.0,>=0.1.75->langchain-core<0.4,>=0.2.38->langgraph) (2.2.2)\n",
      "Requirement already satisfied: exceptiongroup>=1.0.2 in c:\\users\\vigne\\onedrive\\desktop\\projects\\smart-judge\\scripts\\.venv\\lib\\site-packages (from anyio->httpx<1,>=0.23.0->langsmith<0.2.0,>=0.1.75->langchain-core<0.4,>=0.2.38->langgraph) (1.2.2)\n",
      "Using cached langgraph-0.2.19-py3-none-any.whl (97 kB)\n",
      "Using cached langchain_core-0.2.38-py3-none-any.whl (396 kB)\n",
      "Using cached langgraph_checkpoint-1.0.9-py3-none-any.whl (15 kB)\n",
      "Installing collected packages: langchain-core, langgraph-checkpoint, langgraph\n",
      "  Attempting uninstall: langchain-core\n",
      "    Found existing installation: langchain-core 0.2.34\n",
      "    Uninstalling langchain-core-0.2.34:\n"
     ]
    },
    {
     "name": "stderr",
     "output_type": "stream",
     "text": [
      "ERROR: Could not install packages due to an OSError: [WinError 5] Access is denied: 'C:\\\\Users\\\\vigne\\\\OneDrive\\\\Desktop\\\\projects\\\\smart-judge\\\\scripts\\\\.venv\\\\Lib\\\\site-packages\\\\~~ngchain_core-0.2.34.dist-info'\n",
      "Check the permissions.\n",
      "\n"
     ]
    }
   ],
   "source": [
    "!pip install langgraph"
   ]
  },
  {
   "cell_type": "code",
   "execution_count": null,
   "metadata": {},
   "outputs": [],
   "source": [
    "import os\n",
    "from crewai import Agent, Task, Crew, Process\n",
    "\n",
    "os.environ[\"OPENAI_API_KEY\"] = \"\"\n",
    "\n",
    "\n",
    "# Define your agents\n",
    "researcher = Agent(\n",
    "    role=\"SDE-1\",\n",
    "    goal=\"Drive the interview questions and hold a technical discussion with the candidate\",\n",
    "    backstory=\"You're a software engineer interviewing another candidate. Hold a conversation with the candidate and assess his problem solving skills in DSA\",\n",
    "    allow_delegation=False,\n",
    ")\n",
    "\n",
    "writer = Agent(\n",
    "    role=\"Senior Writer\",\n",
    "    goal=\"Create compelling content about AI and AI agents\",\n",
    "    backstory=\"You're a senior writer, specialized in technology, software engineering, AI, and startups. You work as a freelancer and are currently writing content for a new client.\",\n",
    "    allow_delegation=False,\n",
    ")\n",
    "\n",
    "# Define your task\n",
    "task = Task(\n",
    "    description=\"Generate a list of 5 interesting ideas for an article, then write one captivating paragraph for each idea that showcases the potential of a full article on this topic. Return the list of ideas with their paragraphs and your notes.\",\n",
    "    expected_output=\"5 bullet points, each with a paragraph and accompanying notes.\",\n",
    ")\n",
    "\n",
    "# Define the manager agent\n",
    "manager = Agent(\n",
    "    role=\"Hiring Manager\",\n",
    "    goal=\"Efficiently oversee the \",\n",
    "    backstory=\"You're an experienced project manager, skilled in overseeing complex projects and guiding teams to success. Your role is to coordinate the efforts of the crew members, ensuring that each task is completed on time and to the highest standard.\",\n",
    "    allow_delegation=True,\n",
    ")\n",
    "\n",
    "# Instantiate your crew with a custom manager\n",
    "crew = Crew(\n",
    "    agents=[researcher, writer],\n",
    "    tasks=[task],\n",
    "    manager_agent=manager,\n",
    "    process=Process.hierarchical,\n",
    ")\n",
    "\n",
    "# Start the crew's work\n",
    "result = crew.kickoff()"
   ]
  },
  {
   "cell_type": "code",
   "execution_count": null,
   "metadata": {},
   "outputs": [],
   "source": [
    "\"\"\"\n",
    "Tools \n",
    "\"\"\"\n",
    "\n",
    "\n",
    "from crewai_tools import BaseTool\n",
    "\n",
    "class GetSolution(BaseTool):\n",
    "    name: str = \"Get Solution\"\n",
    "    description: str = \"Gets the expected solutions for the problem\"\n",
    "\n",
    "    def _run(self, argument: str) -> str:\n",
    "        return \"\"\"\n",
    "        class Solution:\n",
    "        def twoSum(self, nums: List[int], target: int) -> List[int]:\n",
    "            hashmap = {}\n",
    "            for i in range(len(nums)):\n",
    "                hashmap[nums[i]] = i\n",
    "            for i in range(len(nums)):\n",
    "                complement = target - nums[i]\n",
    "                if complement in hashmap and hashmap[complement] != i:\n",
    "                    return [i, hashmap[complement]]\n",
    "\n",
    "\n",
    "        A simple implementation uses two iterations. In the first iteration, we add each element's value as a key and its index as a value to the hash table. Then, in the second iteration, we check if each element's complement (target−nums[i]) exists in the hash table. If it does exist, we return current element's index and its complement's index. Beware that the complement must not be nums[i] itself!\n",
    "        \"\"\""
   ]
  },
  {
   "cell_type": "code",
   "execution_count": null,
   "metadata": {},
   "outputs": [],
   "source": [
    "def process_user_input(user_input):\n",
    "    return f\"Processed text: {user_input}\"\n",
    "\n",
    "def chat():\n",
    "    while True:\n",
    "        user_input = input(\"\")\n",
    "        if user_input.lower() == 'exit':\n",
    "            break\n",
    "        response = process_user_input(user_input)\n",
    "        print(response)\n",
    "chat()"
   ]
  },
  {
   "cell_type": "code",
   "execution_count": 3,
   "metadata": {},
   "outputs": [],
   "source": []
  },
  {
   "cell_type": "code",
   "execution_count": null,
   "metadata": {},
   "outputs": [],
   "source": []
  }
 ],
 "metadata": {
  "kernelspec": {
   "display_name": ".venv",
   "language": "python",
   "name": "python3"
  },
  "language_info": {
   "codemirror_mode": {
    "name": "ipython",
    "version": 3
   },
   "file_extension": ".py",
   "mimetype": "text/x-python",
   "name": "python",
   "nbconvert_exporter": "python",
   "pygments_lexer": "ipython3",
   "version": "3.10.11"
  }
 },
 "nbformat": 4,
 "nbformat_minor": 2
}
